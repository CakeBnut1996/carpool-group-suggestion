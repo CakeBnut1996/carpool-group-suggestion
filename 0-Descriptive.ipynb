{
 "cells": [
  {
   "cell_type": "code",
   "execution_count": 1,
   "metadata": {},
   "outputs": [
    {
     "name": "stdout",
     "output_type": "stream",
     "text": [
      "<class 'pandas.core.frame.DataFrame'>\n",
      "RangeIndex: 149408 entries, 0 to 149407\n",
      "Data columns (total 8 columns):\n",
      "index               149408 non-null int64\n",
      "trip_id             149408 non-null int64\n",
      "user_id             149408 non-null category\n",
      "orig_loc_id         149408 non-null int64\n",
      "dest_loc_id         149408 non-null int64\n",
      "local_start_time    149408 non-null object\n",
      "local_end_time      149408 non-null object\n",
      "city                149408 non-null category\n",
      "dtypes: category(2), int64(4), object(2)\n",
      "memory usage: 7.3+ MB\n"
     ]
    },
    {
     "data": {
      "text/html": [
       "<div>\n",
       "<style scoped>\n",
       "    .dataframe tbody tr th:only-of-type {\n",
       "        vertical-align: middle;\n",
       "    }\n",
       "\n",
       "    .dataframe tbody tr th {\n",
       "        vertical-align: top;\n",
       "    }\n",
       "\n",
       "    .dataframe thead th {\n",
       "        text-align: right;\n",
       "    }\n",
       "</style>\n",
       "<table border=\"1\" class=\"dataframe\">\n",
       "  <thead>\n",
       "    <tr style=\"text-align: right;\">\n",
       "      <th></th>\n",
       "      <th>index</th>\n",
       "      <th>trip_id</th>\n",
       "      <th>user_id</th>\n",
       "      <th>orig_loc_id</th>\n",
       "      <th>dest_loc_id</th>\n",
       "      <th>local_start_time</th>\n",
       "      <th>local_end_time</th>\n",
       "      <th>city</th>\n",
       "    </tr>\n",
       "  </thead>\n",
       "  <tbody>\n",
       "    <tr>\n",
       "      <th>0</th>\n",
       "      <td>1</td>\n",
       "      <td>2081071</td>\n",
       "      <td>16094</td>\n",
       "      <td>1</td>\n",
       "      <td>2</td>\n",
       "      <td>2018-03-14 12:07:18-06:00</td>\n",
       "      <td>2018-03-14 12:18:51.344355-06:00</td>\n",
       "      <td>elpaso</td>\n",
       "    </tr>\n",
       "    <tr>\n",
       "      <th>1</th>\n",
       "      <td>2</td>\n",
       "      <td>2098189</td>\n",
       "      <td>16094</td>\n",
       "      <td>2</td>\n",
       "      <td>3</td>\n",
       "      <td>2018-03-19 15:08:39-06:00</td>\n",
       "      <td>2018-03-19 15:26:16.293650-06:00</td>\n",
       "      <td>elpaso</td>\n",
       "    </tr>\n",
       "    <tr>\n",
       "      <th>2</th>\n",
       "      <td>4</td>\n",
       "      <td>2102389</td>\n",
       "      <td>16094</td>\n",
       "      <td>2</td>\n",
       "      <td>5</td>\n",
       "      <td>2018-03-20 14:44:31-06:00</td>\n",
       "      <td>2018-03-20 15:08:04.074334-06:00</td>\n",
       "      <td>elpaso</td>\n",
       "    </tr>\n",
       "  </tbody>\n",
       "</table>\n",
       "</div>"
      ],
      "text/plain": [
       "   index  trip_id user_id  orig_loc_id  dest_loc_id  \\\n",
       "0      1  2081071   16094            1            2   \n",
       "1      2  2098189   16094            2            3   \n",
       "2      4  2102389   16094            2            5   \n",
       "\n",
       "            local_start_time                    local_end_time    city  \n",
       "0  2018-03-14 12:07:18-06:00  2018-03-14 12:18:51.344355-06:00  elpaso  \n",
       "1  2018-03-19 15:08:39-06:00  2018-03-19 15:26:16.293650-06:00  elpaso  \n",
       "2  2018-03-20 14:44:31-06:00  2018-03-20 15:08:04.074334-06:00  elpaso  "
      ]
     },
     "execution_count": 1,
     "metadata": {},
     "output_type": "execute_result"
    }
   ],
   "source": [
    "import pandas as pd\n",
    "act = pd.read_csv(\"D:/000-Master/UserClustering/sample_activity_Oct-22-2018.csv\")\n",
    "# act.head()\n",
    "# print(act.columns)\n",
    "act.rename(columns = {'Unnamed: 0':'index'},inplace=True)\n",
    "\n",
    "import numpy as np\n",
    "np.shape(act) # (149408, 8)\n",
    "# act['city'].describe()\n",
    "act['user_id'] = act['user_id'].astype('category')\n",
    "act['city'] = act['city'].astype('category')\n",
    "act.info()\n",
    "\n",
    "# # of locations\n",
    "len(set(act['orig_loc_id'])) #4365\n",
    "len(set(act['dest_loc_id'])) #9052\n",
    "\n",
    "act.head(3)\n",
    "# print(len(act.user_id.unique())) #1320"
   ]
  },
  {
   "cell_type": "code",
   "execution_count": 5,
   "metadata": {},
   "outputs": [
    {
     "data": {
      "text/html": [
       "<div>\n",
       "<style scoped>\n",
       "    .dataframe tbody tr th:only-of-type {\n",
       "        vertical-align: middle;\n",
       "    }\n",
       "\n",
       "    .dataframe tbody tr th {\n",
       "        vertical-align: top;\n",
       "    }\n",
       "\n",
       "    .dataframe thead th {\n",
       "        text-align: right;\n",
       "    }\n",
       "</style>\n",
       "<table border=\"1\" class=\"dataframe\">\n",
       "  <thead>\n",
       "    <tr style=\"text-align: right;\">\n",
       "      <th></th>\n",
       "      <th>index</th>\n",
       "      <th>loc_id</th>\n",
       "      <th>user_id</th>\n",
       "      <th>center_lat</th>\n",
       "      <th>center_lon</th>\n",
       "      <th>fan_in</th>\n",
       "      <th>fan_out</th>\n",
       "      <th>city</th>\n",
       "      <th>cluster</th>\n",
       "      <th>last_updated_utc</th>\n",
       "    </tr>\n",
       "  </thead>\n",
       "  <tbody>\n",
       "    <tr>\n",
       "      <th>0</th>\n",
       "      <td>0</td>\n",
       "      <td>6143</td>\n",
       "      <td>10450</td>\n",
       "      <td>30.390483</td>\n",
       "      <td>-97.758553</td>\n",
       "      <td>69</td>\n",
       "      <td>69</td>\n",
       "      <td>austin</td>\n",
       "      <td>[[30.390023, -97.758607], [30.390023, -97.7586...</td>\n",
       "      <td>2018-10-22 08:15:14.107617+00:00</td>\n",
       "    </tr>\n",
       "    <tr>\n",
       "      <th>1</th>\n",
       "      <td>1</td>\n",
       "      <td>18313</td>\n",
       "      <td>36801</td>\n",
       "      <td>31.756002</td>\n",
       "      <td>-106.270991</td>\n",
       "      <td>3</td>\n",
       "      <td>3</td>\n",
       "      <td>elpaso</td>\n",
       "      <td>[[31.756002, -106.270991], [31.756002, -106.27...</td>\n",
       "      <td>2018-10-10 18:15:35.165449+00:00</td>\n",
       "    </tr>\n",
       "    <tr>\n",
       "      <th>2</th>\n",
       "      <td>2</td>\n",
       "      <td>18315</td>\n",
       "      <td>36820</td>\n",
       "      <td>31.769734</td>\n",
       "      <td>-106.372696</td>\n",
       "      <td>4</td>\n",
       "      <td>1</td>\n",
       "      <td>elpaso</td>\n",
       "      <td>[[31.769734, -106.372696]]</td>\n",
       "      <td>2018-10-22 08:23:05.261713+00:00</td>\n",
       "    </tr>\n",
       "  </tbody>\n",
       "</table>\n",
       "</div>"
      ],
      "text/plain": [
       "   index  loc_id user_id  center_lat  center_lon  fan_in  fan_out    city  \\\n",
       "0      0    6143   10450   30.390483  -97.758553      69       69  austin   \n",
       "1      1   18313   36801   31.756002 -106.270991       3        3  elpaso   \n",
       "2      2   18315   36820   31.769734 -106.372696       4        1  elpaso   \n",
       "\n",
       "                                             cluster  \\\n",
       "0  [[30.390023, -97.758607], [30.390023, -97.7586...   \n",
       "1  [[31.756002, -106.270991], [31.756002, -106.27...   \n",
       "2                         [[31.769734, -106.372696]]   \n",
       "\n",
       "                   last_updated_utc  \n",
       "0  2018-10-22 08:15:14.107617+00:00  \n",
       "1  2018-10-10 18:15:35.165449+00:00  \n",
       "2  2018-10-22 08:23:05.261713+00:00  "
      ]
     },
     "execution_count": 5,
     "metadata": {},
     "output_type": "execute_result"
    }
   ],
   "source": [
    "loc = pd.read_csv(\"D:/000-Master/UserClustering/sample_location_Oct-22-2018.csv\")\n",
    "loc.rename(columns = {'Unnamed: 0':'index'},inplace=True)\n",
    "\n",
    "loc['user_id'] = loc['user_id'].astype('category')\n",
    "loc['city'] = loc['city'].astype('category')\n",
    "\n",
    "loc.head(3)"
   ]
  },
  {
   "cell_type": "code",
   "execution_count": 6,
   "metadata": {},
   "outputs": [
    {
     "data": {
      "text/html": [
       "<div>\n",
       "<style scoped>\n",
       "    .dataframe tbody tr th:only-of-type {\n",
       "        vertical-align: middle;\n",
       "    }\n",
       "\n",
       "    .dataframe tbody tr th {\n",
       "        vertical-align: top;\n",
       "    }\n",
       "\n",
       "    .dataframe thead th {\n",
       "        text-align: right;\n",
       "    }\n",
       "</style>\n",
       "<table border=\"1\" class=\"dataframe\">\n",
       "  <thead>\n",
       "    <tr style=\"text-align: right;\">\n",
       "      <th></th>\n",
       "      <th>user_id</th>\n",
       "      <th>city</th>\n",
       "      <th>count</th>\n",
       "    </tr>\n",
       "  </thead>\n",
       "  <tbody>\n",
       "    <tr>\n",
       "      <th>0</th>\n",
       "      <td>2</td>\n",
       "      <td>tucson</td>\n",
       "      <td>7</td>\n",
       "    </tr>\n",
       "    <tr>\n",
       "      <th>1</th>\n",
       "      <td>561</td>\n",
       "      <td>austin</td>\n",
       "      <td>3</td>\n",
       "    </tr>\n",
       "    <tr>\n",
       "      <th>2</th>\n",
       "      <td>651</td>\n",
       "      <td>austin</td>\n",
       "      <td>3</td>\n",
       "    </tr>\n",
       "    <tr>\n",
       "      <th>3</th>\n",
       "      <td>667</td>\n",
       "      <td>austin</td>\n",
       "      <td>3</td>\n",
       "    </tr>\n",
       "    <tr>\n",
       "      <th>4</th>\n",
       "      <td>705</td>\n",
       "      <td>austin</td>\n",
       "      <td>2</td>\n",
       "    </tr>\n",
       "  </tbody>\n",
       "</table>\n",
       "</div>"
      ],
      "text/plain": [
       "  user_id    city  count\n",
       "0       2  tucson      7\n",
       "1     561  austin      3\n",
       "2     651  austin      3\n",
       "3     667  austin      3\n",
       "4     705  austin      2"
      ]
     },
     "execution_count": 6,
     "metadata": {},
     "output_type": "execute_result"
    }
   ],
   "source": [
    "### Descriptive\n",
    "### Important LOCATIONS\n",
    "import numpy as np\n",
    "import matplotlib.pyplot as plt\n",
    "\n",
    "np.shape(loc) #(5000, 10)\n",
    "# loc.info()\n",
    "\n",
    "locStats = loc[['loc_id','user_id','city']].groupby(['user_id','city']).size().reset_index(name='count') #每个人有多少个important locations\n",
    "locStats = locStats.dropna()\n",
    "# locStats = locStats.rename(columns={'loc_id':'count'})\n",
    "locStats.head()\n",
    "\n",
    "# print(locStats.loc[locStats['city'] == 'tucson'].shape[0])\n",
    "# print(locStats.loc[locStats['city'] == 'elpaso'].shape[0])\n",
    "# print(locStats.loc[locStats['city'] == 'austin'].shape[0])"
   ]
  },
  {
   "cell_type": "code",
   "execution_count": 7,
   "metadata": {},
   "outputs": [
    {
     "data": {
      "text/html": [
       "<div>\n",
       "<style scoped>\n",
       "    .dataframe tbody tr th:only-of-type {\n",
       "        vertical-align: middle;\n",
       "    }\n",
       "\n",
       "    .dataframe tbody tr th {\n",
       "        vertical-align: top;\n",
       "    }\n",
       "\n",
       "    .dataframe thead th {\n",
       "        text-align: right;\n",
       "    }\n",
       "</style>\n",
       "<table border=\"1\" class=\"dataframe\">\n",
       "  <thead>\n",
       "    <tr style=\"text-align: right;\">\n",
       "      <th></th>\n",
       "      <th>count</th>\n",
       "      <th>city</th>\n",
       "      <th>counts</th>\n",
       "    </tr>\n",
       "  </thead>\n",
       "  <tbody>\n",
       "    <tr>\n",
       "      <th>0</th>\n",
       "      <td>1</td>\n",
       "      <td>austin</td>\n",
       "      <td>70</td>\n",
       "    </tr>\n",
       "    <tr>\n",
       "      <th>1</th>\n",
       "      <td>1</td>\n",
       "      <td>elpaso</td>\n",
       "      <td>242</td>\n",
       "    </tr>\n",
       "    <tr>\n",
       "      <th>2</th>\n",
       "      <td>1</td>\n",
       "      <td>tucson</td>\n",
       "      <td>81</td>\n",
       "    </tr>\n",
       "    <tr>\n",
       "      <th>3</th>\n",
       "      <td>2</td>\n",
       "      <td>austin</td>\n",
       "      <td>66</td>\n",
       "    </tr>\n",
       "    <tr>\n",
       "      <th>4</th>\n",
       "      <td>2</td>\n",
       "      <td>elpaso</td>\n",
       "      <td>189</td>\n",
       "    </tr>\n",
       "  </tbody>\n",
       "</table>\n",
       "</div>"
      ],
      "text/plain": [
       "   count    city  counts\n",
       "0      1  austin      70\n",
       "1      1  elpaso     242\n",
       "2      1  tucson      81\n",
       "3      2  austin      66\n",
       "4      2  elpaso     189"
      ]
     },
     "execution_count": 7,
     "metadata": {},
     "output_type": "execute_result"
    }
   ],
   "source": [
    "numBar = locStats.groupby(['count','city']).size().reset_index(name='counts') # \n",
    "numBar.head()"
   ]
  },
  {
   "cell_type": "code",
   "execution_count": 8,
   "metadata": {},
   "outputs": [
    {
     "data": {
      "image/png": "[encoded data removed]",
      "text/plain": [
       "<Figure size 432x288 with 1 Axes>"
      ]
     },
     "metadata": {
      "needs_background": "light"
     },
     "output_type": "display_data"
    }
   ],
   "source": [
    "# Create bars\n",
    "df = numBar.loc[numBar['city'] == 'austin']\n",
    "df.head()\n",
    "\n",
    "height = df['counts']\n",
    "bars = df['count'].astype('int')\n",
    "y_pos = np.arange(len(bars))\n",
    "\n",
    "plt.bar(y_pos, height)\n",
    "# Create names on the x-axis\n",
    "plt.xticks(y_pos, bars)\n",
    "plt.title('#  of important places distribution in Austin')\n",
    "plt.xlabel('# of important places')\n",
    "plt.ylabel('# of users')\n",
    "# Show graphic\n",
    "plt.show()"
   ]
  },
  {
   "cell_type": "code",
   "execution_count": 8,
   "metadata": {},
   "outputs": [
    {
     "name": "stdout",
     "output_type": "stream",
     "text": [
      "3\n"
     ]
    },
    {
     "data": {
      "image/png": "[encoded data removed]",
      "text/plain": [
       "<Figure size 432x288 with 1 Axes>"
      ]
     },
     "metadata": {
      "needs_background": "light"
     },
     "output_type": "display_data"
    }
   ],
   "source": [
    "### CITY\n",
    "import random\n",
    "import matplotlib.pyplot as plt\n",
    "print(len(set(loc['city']))) # 3 cities\n",
    "\n",
    "\n",
    "plt.scatter(loc.center_lon, loc.center_lat)\n",
    "plt.xlabel('Longitude', fontsize = 18)\n",
    "plt.ylabel('Latitude', fontsize = 18)\n",
    "city_list = (dict(loc['city'].value_counts()))\n",
    "#  list(city_list.keys())[1]"
   ]
  },
  {
   "cell_type": "code",
   "execution_count": 9,
   "metadata": {},
   "outputs": [],
   "source": [
    "import plotly\n",
    "plotly.tools.set_credentials_file(username='Melrose', api_key='WJrAvtbnYiPntYQEHPhN')"
   ]
  },
  {
   "cell_type": "code",
   "execution_count": 10,
   "metadata": {},
   "outputs": [
    {
     "name": "stdout",
     "output_type": "stream",
     "text": [
      "High five! You successfully sent some data to your account on plotly. View your plot in your browser at https://plot.ly/~Melrose/0 or inside your plot.ly account where it is named 'd3-airports'\n"
     ]
    },
    {
     "data": {
      "text/html": [
       "<iframe id=\"igraph\" scrolling=\"no\" style=\"border:none;\" seamless=\"seamless\" src=\"https://plot.ly/~Melrose/0.embed\" height=\"525px\" width=\"100%\"></iframe>"
      ],
      "text/plain": [
       "<plotly.tools.PlotlyDisplay object>"
      ]
     },
     "execution_count": 10,
     "metadata": {},
     "output_type": "execute_result"
    }
   ],
   "source": [
    "import plotly.plotly as py\n",
    "import plotly.graph_objs as go\n",
    "\n",
    "df = loc\n",
    "\n",
    "data = [ dict(\n",
    "        type = 'scattergeo',\n",
    "        locationmode = 'country names',\n",
    "        lon = df['center_lon'],\n",
    "        lat = df['center_lat'],\n",
    "        mode = 'markers',\n",
    "        marker = dict(\n",
    "            size = 6,\n",
    "            opacity = 0.8,\n",
    "            reversescale = True,\n",
    "            autocolorscale = False,\n",
    "            symbol = 'circle',\n",
    "            line = dict(\n",
    "                width=1,\n",
    "                color='rgba(102, 102, 102)' # border of circle\n",
    "            )\n",
    "        ))]\n",
    "\n",
    "layout = dict(\n",
    "        title = 'GPS Points in Tucson',\n",
    "        colorbar = True,\n",
    "        geo = dict(\n",
    "            scope='usa',\n",
    "            projection = dict( type='mercator'),\n",
    "            center = dict(lat = 32.193618, lon = -111.063911),\n",
    "            lonaxis = dict( range= [ min(df['center_lon']), max(df['center_lon']) ] ),\n",
    "            lataxis = dict( range= [ min(df['center_lat']), max(df['center_lat']) ] ),\n",
    "            showland = True,\n",
    "            landcolor = \"rgb(250, 250, 250)\",\n",
    "            subunitcolor = \"rgb(217, 217, 217)\",\n",
    "            countrycolor = \"rgb(217, 217, 217)\",\n",
    "            countrywidth = 0.5,\n",
    "            subunitwidth = 0.5\n",
    "        ),\n",
    "    )\n",
    "\n",
    "fig = dict(data=data, layout=layout )\n",
    "py.iplot( fig, validate=False, filename='d3-airports' )"
   ]
  },
  {
   "cell_type": "code",
   "execution_count": 74,
   "metadata": {},
   "outputs": [],
   "source": [
    "# Solution 1 NOT WORK\n",
    "from gmplot import gmplot\n",
    "gmap = gmplot.GoogleMapPlotter(37.766956, -122.438481, 13)\n",
    "top_attraction_lats, top_attraction_lons = zip(*[\n",
    "    (37.769901, -122.498331),\n",
    "    (37.768645, -122.475328),\n",
    "    (37.771478, -122.468677),\n",
    "    (37.769867, -122.466102),\n",
    "    (37.767187, -122.467496),\n",
    "    (37.770104, -122.470436)\n",
    "    ])\n",
    "gmap.scatter(top_attraction_lats, top_attraction_lons, '#3B0B39', size=40, marker=False)\n",
    "gmap.draw(\"my_map.html\")"
   ]
  },
  {
   "cell_type": "code",
   "execution_count": 9,
   "metadata": {},
   "outputs": [
    {
     "data": {
      "text/html": [
       "<div>\n",
       "<style scoped>\n",
       "    .dataframe tbody tr th:only-of-type {\n",
       "        vertical-align: middle;\n",
       "    }\n",
       "\n",
       "    .dataframe tbody tr th {\n",
       "        vertical-align: top;\n",
       "    }\n",
       "\n",
       "    .dataframe thead th {\n",
       "        text-align: right;\n",
       "    }\n",
       "</style>\n",
       "<table border=\"1\" class=\"dataframe\">\n",
       "  <thead>\n",
       "    <tr style=\"text-align: right;\">\n",
       "      <th></th>\n",
       "      <th>user_id</th>\n",
       "      <th>counts</th>\n",
       "    </tr>\n",
       "  </thead>\n",
       "  <tbody>\n",
       "    <tr>\n",
       "      <th>0</th>\n",
       "      <td>2</td>\n",
       "      <td>166</td>\n",
       "    </tr>\n",
       "    <tr>\n",
       "      <th>1</th>\n",
       "      <td>561</td>\n",
       "      <td>281</td>\n",
       "    </tr>\n",
       "    <tr>\n",
       "      <th>2</th>\n",
       "      <td>651</td>\n",
       "      <td>194</td>\n",
       "    </tr>\n",
       "    <tr>\n",
       "      <th>3</th>\n",
       "      <td>667</td>\n",
       "      <td>240</td>\n",
       "    </tr>\n",
       "    <tr>\n",
       "      <th>4</th>\n",
       "      <td>705</td>\n",
       "      <td>21</td>\n",
       "    </tr>\n",
       "  </tbody>\n",
       "</table>\n",
       "</div>"
      ],
      "text/plain": [
       "   user_id  counts\n",
       "0        2     166\n",
       "1      561     281\n",
       "2      651     194\n",
       "3      667     240\n",
       "4      705      21"
      ]
     },
     "execution_count": 9,
     "metadata": {},
     "output_type": "execute_result"
    }
   ],
   "source": [
    "### Duration\n",
    "numTrip = act.groupby('user_id').size().reset_index(name='counts')\n",
    "numTrip.head()"
   ]
  }
 ],
 "metadata": {
  "kernelspec": {
   "display_name": "Python 3",
   "language": "python",
   "name": "python3"
  },
  "language_info": {
   "codemirror_mode": {
    "name": "ipython",
    "version": 3
   },
   "file_extension": ".py",
   "mimetype": "text/x-python",
   "name": "python",
   "nbconvert_exporter": "python",
   "pygments_lexer": "ipython3",
   "version": "3.7.0"
  }
 },
 "nbformat": 4,
 "nbformat_minor": 2
}
