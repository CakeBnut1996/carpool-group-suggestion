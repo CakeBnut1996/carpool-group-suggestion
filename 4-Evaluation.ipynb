{
 "cells": [
  {
   "cell_type": "code",
   "execution_count": null,
   "metadata": {},
   "outputs": [],
   "source": [
    "import pandas as pd\n",
    "act = pd.read_csv(\"D:/000-Master/Metropia_UserClustering/sample_activity_Oct-22-2018.csv\")\n",
    "act.rename(columns = {'Unnamed: 0':'index'},inplace=True)\n",
    "loc = pd.read_csv(\"D:/000-Master/Metropia_UserClustering/sample_location_Oct-22-2018.csv\")\n",
    "loc.rename(columns = {'Unnamed: 0':'index'},inplace=True)\n",
    "city_list = (dict(loc['city'].value_counts()))\n",
    "\n",
    "act['start_date'] = act['local_start_time'].astype(str).str[:10]\n",
    "act['local_start_time'] = act['local_start_time'].astype(str).str[:19]\n",
    "act['local_start_time'] = pd.to_datetime(act['local_start_time'])\n",
    "act['local_start_hour'] = act['local_start_time'].dt.hour\n",
    "\n",
    "act['local_end_time'] = act['local_end_time'].astype(str).str[:19]\n",
    "act['local_end_time'] = pd.to_datetime(act['local_end_time'])\n",
    "\n",
    "import numpy as np\n",
    "cols = ['loc_id','center_lat','center_lon']\n",
    "df = loc[cols]\n",
    "\n",
    "df.rename(columns = {'loc_id':'orig_loc_id'},inplace=True)\n",
    "x = pd.merge(act, df, on=\"orig_loc_id\")\n",
    "x.rename(columns = {'center_lat':'orig_lat',\n",
    "                   'center_lon':'orig_lon'},inplace=True)\n",
    "\n",
    "df.rename(columns = {'orig_loc_id':'dest_loc_id'},inplace=True)\n",
    "x = pd.merge(x, df, on=\"dest_loc_id\")\n",
    "x.rename(columns = {'center_lat':'dest_lat',\n",
    "                   'center_lon':'dest_lon'},inplace=True)\n",
    "act = x\n",
    "\n",
    "from datetime import datetime, date, time\n",
    "def weekday(data):\n",
    "    dt = datetime.strptime(data, \"%Y-%m-%d\")\n",
    "    tt = dt.timetuple()\n",
    "    return tt[6]\n",
    "    \n",
    "act['day'] = (act['start_date']).apply(weekday) # weekday (0 = Monday)\n",
    "\n",
    "act.head()"
   ]
  },
  {
   "cell_type": "code",
   "execution_count": null,
   "metadata": {},
   "outputs": [],
   "source": [
    "### 1. Distance Matrix ####\n",
    "from sklearn.cluster import KMeans\n",
    "km = KMeans(120, init='k-means++') # initialize\n",
    "X = data[['center_x','center_y']]\n",
    "km.fit(X)\n",
    "label = km.predict(X) # classify into 120 clusters\n",
    "data['label'] = label\n",
    "\n",
    "max_dist = [] # maximum within-group distance of group j\n",
    "avg_dist = [] # average distance\n",
    "j = 0\n",
    "for i in set(data['label']):    \n",
    "    one = data.loc[data['label'] == i]\n",
    "    one_1 = one.loc[one.index.repeat(len(one))].reset_index(drop=True) # reset index\n",
    "    one_2 = one\n",
    "    one_2 = pd.concat([one_2]*len(one_2), ignore_index=True)\n",
    "    one_2.rename(columns = {'loc_id':'loc_id_2','center_y': 'center_y_2','center_x':'center_x_2'},inplace=True)\n",
    "    one_3 = one_1.join(one_2, lsuffix='_one_1', rsuffix='_one_2') # IMPORTANT!!!\n",
    "    from sklearn.metrics.pairwise import pairwise_distances \n",
    "    from sklearn.cluster import DBSCAN \n",
    "    from geopy.distance import vincenty\n",
    "    # unit in km\n",
    "    one_3['distance'] = np.sqrt(np.square(one_3['center_y']-one_3['center_y_2'])+np.square(one_3['center_x']-one_3['center_x_2']))\n",
    "    one_distance_matrix = one_3.pivot_table(index=['loc_id'],columns=['loc_id_2'],values='distance')\n",
    "    max_dist.append(one_distance_matrix.values.max())\n",
    "    avg_dist.append(one_distance_matrix.values.mean())\n",
    "    j = j + 1\n",
    "    \n",
    "max_dist = pd.DataFrame(max_dist) # max distance winthin group\n",
    "max_dist.columns = ['distance']\n",
    "max_dist.head()\n",
    "avg_dist = pd.DataFrame(avg_dist) # average distance within group\n",
    "avg_dist.columns = ['distance']\n",
    "avg_dist.head()\n",
    "\n",
    "plt.hist(avg_dist['distance'], bins=25, alpha=0.6, color='g') #hist \n",
    "title = \"Distribution of Average Distance Within Group\"\n",
    "plt.xlabel(\"Distance/km\")\n",
    "plt.ylabel(\"Number of Groups\")\n",
    "plt.title(title)\n",
    "plt.show()"
   ]
  },
  {
   "cell_type": "code",
   "execution_count": 1,
   "metadata": {},
   "outputs": [],
   "source": [
    "### Three Algorithms ####\n"
   ]
  },
  {
   "cell_type": "code",
   "execution_count": null,
   "metadata": {},
   "outputs": [],
   "source": [
    "### 2. Number of Users in a Group ####\n"
   ]
  },
  {
   "cell_type": "code",
   "execution_count": null,
   "metadata": {},
   "outputs": [],
   "source": [
    "### 2. Number of Users in a Group ####"
   ]
  },
  {
   "cell_type": "code",
   "execution_count": null,
   "metadata": {},
   "outputs": [],
   "source": [
    "### 3. # of groups a user have ####"
   ]
  }
 ],
 "metadata": {
  "kernelspec": {
   "display_name": "Python 3",
   "language": "python",
   "name": "python3"
  },
  "language_info": {
   "codemirror_mode": {
    "name": "ipython",
    "version": 3
   },
   "file_extension": ".py",
   "mimetype": "text/x-python",
   "name": "python",
   "nbconvert_exporter": "python",
   "pygments_lexer": "ipython3",
   "version": "3.7.0"
  }
 },
 "nbformat": 4,
 "nbformat_minor": 2
}
